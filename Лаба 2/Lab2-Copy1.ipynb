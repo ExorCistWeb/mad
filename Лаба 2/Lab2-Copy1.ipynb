{
 "cells": [
  {
   "cell_type": "code",
   "execution_count": 1,
   "id": "6d2f3f52-2bec-4c65-9b68-cd11cd08a94e",
   "metadata": {},
   "outputs": [],
   "source": [
    "import pandas as pd\n",
    "import numpy as np\n",
    "import seaborn as sns\n",
    "import scikitplot as skplt\n",
    "\n",
    "from sklearn.impute import KNNImputer\n",
    "from sklearn.neighbors import KNeighborsClassifier\n",
    "from sklearn.model_selection import train_test_split, GridSearchCV\n",
    "from sklearn.metrics import accuracy_score as acc\n",
    "from sklearn.metrics import roc_auc_score, roc_curve\n",
    "from sklearn.preprocessing import MinMaxScaler, LabelEncoder, OneHotEncoder, StandardScaler\n",
    "from sklearn.svm import LinearSVC, SVC\n",
    "from sklearn.feature_selection import mutual_info_classif, SelectFromModel, RFE\n",
    "from mlxtend.feature_selection import ExhaustiveFeatureSelector\n",
    "from sklearn.linear_model import LogisticRegression, LinearRegression, Lasso\n",
    "from sklearn.ensemble import RandomForestClassifier\n",
    "from imblearn.over_sampling import SMOTE\n",
    "from sklearn.naive_bayes import GaussianNB\n",
    "from sklearn.discriminant_analysis import LinearDiscriminantAnalysis\n",
    "from imblearn.over_sampling import RandomOverSampler\n",
    "\n",
    "from plots_draw import draw_cat, draw_num\n",
    "from stats_methods import sigma_method\n",
    "\n",
    "import warnings\n",
    "warnings.filterwarnings('ignore')\n",
    "\n",
    "import matplotlib.pyplot as plt"
   ]
  },
  {
   "cell_type": "code",
   "execution_count": 2,
   "id": "14764114-d554-4549-9a29-7dbe259c12a6",
   "metadata": {},
   "outputs": [],
   "source": [
    "train_df = pd.read_csv('train.csv', sep=',', header=0, index_col=False)\n",
    "cat_cols = ['Name', 'Sex', 'Ticket', 'Cabin', 'Embarked']\n",
    "num_cols = ['PassengerId', 'Survived', 'Pclass', 'Age', 'SibSp', 'Parch', 'Fare']"
   ]
  },
  {
   "cell_type": "code",
   "execution_count": 3,
   "id": "41e6b8ab-1118-4605-a90e-f0fa3d6bb2fc",
   "metadata": {},
   "outputs": [
    {
     "data": {
      "text/html": [
       "<div>\n",
       "<style scoped>\n",
       "    .dataframe tbody tr th:only-of-type {\n",
       "        vertical-align: middle;\n",
       "    }\n",
       "\n",
       "    .dataframe tbody tr th {\n",
       "        vertical-align: top;\n",
       "    }\n",
       "\n",
       "    .dataframe thead th {\n",
       "        text-align: right;\n",
       "    }\n",
       "</style>\n",
       "<table border=\"1\" class=\"dataframe\">\n",
       "  <thead>\n",
       "    <tr style=\"text-align: right;\">\n",
       "      <th></th>\n",
       "      <th>PassengerId</th>\n",
       "      <th>Survived</th>\n",
       "      <th>Pclass</th>\n",
       "      <th>Name</th>\n",
       "      <th>Sex</th>\n",
       "      <th>Age</th>\n",
       "      <th>SibSp</th>\n",
       "      <th>Parch</th>\n",
       "      <th>Ticket</th>\n",
       "      <th>Fare</th>\n",
       "      <th>Cabin</th>\n",
       "      <th>Embarked</th>\n",
       "    </tr>\n",
       "  </thead>\n",
       "  <tbody>\n",
       "    <tr>\n",
       "      <th>0</th>\n",
       "      <td>486</td>\n",
       "      <td>0</td>\n",
       "      <td>3</td>\n",
       "      <td>Lefebre, Miss. Jeannie</td>\n",
       "      <td>female</td>\n",
       "      <td>NaN</td>\n",
       "      <td>3</td>\n",
       "      <td>1</td>\n",
       "      <td>4133</td>\n",
       "      <td>25.4667</td>\n",
       "      <td>NaN</td>\n",
       "      <td>S</td>\n",
       "    </tr>\n",
       "    <tr>\n",
       "      <th>1</th>\n",
       "      <td>426</td>\n",
       "      <td>0</td>\n",
       "      <td>3</td>\n",
       "      <td>Wiseman, Mr. Phillippe</td>\n",
       "      <td>male</td>\n",
       "      <td>NaN</td>\n",
       "      <td>0</td>\n",
       "      <td>0</td>\n",
       "      <td>A/4. 34244</td>\n",
       "      <td>7.2500</td>\n",
       "      <td>NaN</td>\n",
       "      <td>S</td>\n",
       "    </tr>\n",
       "    <tr>\n",
       "      <th>2</th>\n",
       "      <td>780</td>\n",
       "      <td>1</td>\n",
       "      <td>1</td>\n",
       "      <td>Robert, Mrs. Edward Scott (Elisabeth Walton Mc...</td>\n",
       "      <td>female</td>\n",
       "      <td>43.0</td>\n",
       "      <td>0</td>\n",
       "      <td>1</td>\n",
       "      <td>24160</td>\n",
       "      <td>211.3375</td>\n",
       "      <td>B3</td>\n",
       "      <td>S</td>\n",
       "    </tr>\n",
       "    <tr>\n",
       "      <th>3</th>\n",
       "      <td>248</td>\n",
       "      <td>1</td>\n",
       "      <td>2</td>\n",
       "      <td>Hamalainen, Mrs. William (Anna)</td>\n",
       "      <td>female</td>\n",
       "      <td>24.0</td>\n",
       "      <td>0</td>\n",
       "      <td>2</td>\n",
       "      <td>250649</td>\n",
       "      <td>14.5000</td>\n",
       "      <td>NaN</td>\n",
       "      <td>S</td>\n",
       "    </tr>\n",
       "    <tr>\n",
       "      <th>4</th>\n",
       "      <td>184</td>\n",
       "      <td>1</td>\n",
       "      <td>2</td>\n",
       "      <td>Becker, Master. Richard F</td>\n",
       "      <td>male</td>\n",
       "      <td>1.0</td>\n",
       "      <td>2</td>\n",
       "      <td>1</td>\n",
       "      <td>230136</td>\n",
       "      <td>39.0000</td>\n",
       "      <td>F4</td>\n",
       "      <td>S</td>\n",
       "    </tr>\n",
       "  </tbody>\n",
       "</table>\n",
       "</div>"
      ],
      "text/plain": [
       "   PassengerId  Survived  Pclass  \\\n",
       "0          486         0       3   \n",
       "1          426         0       3   \n",
       "2          780         1       1   \n",
       "3          248         1       2   \n",
       "4          184         1       2   \n",
       "\n",
       "                                                Name     Sex   Age  SibSp  \\\n",
       "0                             Lefebre, Miss. Jeannie  female   NaN      3   \n",
       "1                             Wiseman, Mr. Phillippe    male   NaN      0   \n",
       "2  Robert, Mrs. Edward Scott (Elisabeth Walton Mc...  female  43.0      0   \n",
       "3                    Hamalainen, Mrs. William (Anna)  female  24.0      0   \n",
       "4                          Becker, Master. Richard F    male   1.0      2   \n",
       "\n",
       "   Parch      Ticket      Fare Cabin Embarked  \n",
       "0      1        4133   25.4667   NaN        S  \n",
       "1      0  A/4. 34244    7.2500   NaN        S  \n",
       "2      1       24160  211.3375    B3        S  \n",
       "3      2      250649   14.5000   NaN        S  \n",
       "4      1      230136   39.0000    F4        S  "
      ]
     },
     "execution_count": 3,
     "metadata": {},
     "output_type": "execute_result"
    }
   ],
   "source": [
    "train_df.head()"
   ]
  },
  {
   "cell_type": "code",
   "execution_count": 4,
   "id": "884d335f-f46a-4bd9-9901-7115234e650f",
   "metadata": {},
   "outputs": [
    {
     "data": {
      "text/plain": [
       "PassengerId      int64\n",
       "Survived         int64\n",
       "Pclass           int64\n",
       "Name            object\n",
       "Sex             object\n",
       "Age            float64\n",
       "SibSp            int64\n",
       "Parch            int64\n",
       "Ticket          object\n",
       "Fare           float64\n",
       "Cabin           object\n",
       "Embarked        object\n",
       "dtype: object"
      ]
     },
     "execution_count": 4,
     "metadata": {},
     "output_type": "execute_result"
    }
   ],
   "source": [
    "train_df.dtypes"
   ]
  },
  {
   "cell_type": "code",
   "execution_count": 5,
   "id": "d5ba3015-fce0-4f99-a604-2d0c049b52d8",
   "metadata": {},
   "outputs": [
    {
     "data": {
      "text/html": [
       "<div>\n",
       "<style scoped>\n",
       "    .dataframe tbody tr th:only-of-type {\n",
       "        vertical-align: middle;\n",
       "    }\n",
       "\n",
       "    .dataframe tbody tr th {\n",
       "        vertical-align: top;\n",
       "    }\n",
       "\n",
       "    .dataframe thead th {\n",
       "        text-align: right;\n",
       "    }\n",
       "</style>\n",
       "<table border=\"1\" class=\"dataframe\">\n",
       "  <thead>\n",
       "    <tr style=\"text-align: right;\">\n",
       "      <th></th>\n",
       "      <th>PassengerId</th>\n",
       "      <th>Survived</th>\n",
       "      <th>Pclass</th>\n",
       "      <th>Name</th>\n",
       "      <th>Sex</th>\n",
       "      <th>Age</th>\n",
       "      <th>SibSp</th>\n",
       "      <th>Parch</th>\n",
       "      <th>Ticket</th>\n",
       "      <th>Fare</th>\n",
       "      <th>Cabin</th>\n",
       "      <th>Embarked</th>\n",
       "    </tr>\n",
       "  </thead>\n",
       "  <tbody>\n",
       "    <tr>\n",
       "      <th>count</th>\n",
       "      <td>534.000000</td>\n",
       "      <td>534.000000</td>\n",
       "      <td>534.000000</td>\n",
       "      <td>534</td>\n",
       "      <td>534</td>\n",
       "      <td>432.000000</td>\n",
       "      <td>534.000000</td>\n",
       "      <td>534.00000</td>\n",
       "      <td>534</td>\n",
       "      <td>534.000000</td>\n",
       "      <td>120</td>\n",
       "      <td>534</td>\n",
       "    </tr>\n",
       "    <tr>\n",
       "      <th>unique</th>\n",
       "      <td>NaN</td>\n",
       "      <td>NaN</td>\n",
       "      <td>NaN</td>\n",
       "      <td>534</td>\n",
       "      <td>2</td>\n",
       "      <td>NaN</td>\n",
       "      <td>NaN</td>\n",
       "      <td>NaN</td>\n",
       "      <td>447</td>\n",
       "      <td>NaN</td>\n",
       "      <td>102</td>\n",
       "      <td>3</td>\n",
       "    </tr>\n",
       "    <tr>\n",
       "      <th>top</th>\n",
       "      <td>NaN</td>\n",
       "      <td>NaN</td>\n",
       "      <td>NaN</td>\n",
       "      <td>Lefebre, Miss. Jeannie</td>\n",
       "      <td>male</td>\n",
       "      <td>NaN</td>\n",
       "      <td>NaN</td>\n",
       "      <td>NaN</td>\n",
       "      <td>CA. 2343</td>\n",
       "      <td>NaN</td>\n",
       "      <td>B96 B98</td>\n",
       "      <td>S</td>\n",
       "    </tr>\n",
       "    <tr>\n",
       "      <th>freq</th>\n",
       "      <td>NaN</td>\n",
       "      <td>NaN</td>\n",
       "      <td>NaN</td>\n",
       "      <td>1</td>\n",
       "      <td>346</td>\n",
       "      <td>NaN</td>\n",
       "      <td>NaN</td>\n",
       "      <td>NaN</td>\n",
       "      <td>6</td>\n",
       "      <td>NaN</td>\n",
       "      <td>3</td>\n",
       "      <td>380</td>\n",
       "    </tr>\n",
       "    <tr>\n",
       "      <th>mean</th>\n",
       "      <td>438.878277</td>\n",
       "      <td>0.391386</td>\n",
       "      <td>2.327715</td>\n",
       "      <td>NaN</td>\n",
       "      <td>NaN</td>\n",
       "      <td>29.612662</td>\n",
       "      <td>0.548689</td>\n",
       "      <td>0.38015</td>\n",
       "      <td>NaN</td>\n",
       "      <td>32.780453</td>\n",
       "      <td>NaN</td>\n",
       "      <td>NaN</td>\n",
       "    </tr>\n",
       "    <tr>\n",
       "      <th>std</th>\n",
       "      <td>256.203078</td>\n",
       "      <td>0.488518</td>\n",
       "      <td>0.839514</td>\n",
       "      <td>NaN</td>\n",
       "      <td>NaN</td>\n",
       "      <td>14.740699</td>\n",
       "      <td>1.206793</td>\n",
       "      <td>0.81936</td>\n",
       "      <td>NaN</td>\n",
       "      <td>52.203248</td>\n",
       "      <td>NaN</td>\n",
       "      <td>NaN</td>\n",
       "    </tr>\n",
       "    <tr>\n",
       "      <th>min</th>\n",
       "      <td>1.000000</td>\n",
       "      <td>0.000000</td>\n",
       "      <td>1.000000</td>\n",
       "      <td>NaN</td>\n",
       "      <td>NaN</td>\n",
       "      <td>0.420000</td>\n",
       "      <td>0.000000</td>\n",
       "      <td>0.00000</td>\n",
       "      <td>NaN</td>\n",
       "      <td>0.000000</td>\n",
       "      <td>NaN</td>\n",
       "      <td>NaN</td>\n",
       "    </tr>\n",
       "    <tr>\n",
       "      <th>25%</th>\n",
       "      <td>213.250000</td>\n",
       "      <td>0.000000</td>\n",
       "      <td>2.000000</td>\n",
       "      <td>NaN</td>\n",
       "      <td>NaN</td>\n",
       "      <td>20.000000</td>\n",
       "      <td>0.000000</td>\n",
       "      <td>0.00000</td>\n",
       "      <td>NaN</td>\n",
       "      <td>7.895800</td>\n",
       "      <td>NaN</td>\n",
       "      <td>NaN</td>\n",
       "    </tr>\n",
       "    <tr>\n",
       "      <th>50%</th>\n",
       "      <td>435.500000</td>\n",
       "      <td>0.000000</td>\n",
       "      <td>3.000000</td>\n",
       "      <td>NaN</td>\n",
       "      <td>NaN</td>\n",
       "      <td>28.000000</td>\n",
       "      <td>0.000000</td>\n",
       "      <td>0.00000</td>\n",
       "      <td>NaN</td>\n",
       "      <td>13.000000</td>\n",
       "      <td>NaN</td>\n",
       "      <td>NaN</td>\n",
       "    </tr>\n",
       "    <tr>\n",
       "      <th>75%</th>\n",
       "      <td>654.750000</td>\n",
       "      <td>1.000000</td>\n",
       "      <td>3.000000</td>\n",
       "      <td>NaN</td>\n",
       "      <td>NaN</td>\n",
       "      <td>38.250000</td>\n",
       "      <td>1.000000</td>\n",
       "      <td>0.00000</td>\n",
       "      <td>NaN</td>\n",
       "      <td>31.275000</td>\n",
       "      <td>NaN</td>\n",
       "      <td>NaN</td>\n",
       "    </tr>\n",
       "    <tr>\n",
       "      <th>max</th>\n",
       "      <td>891.000000</td>\n",
       "      <td>1.000000</td>\n",
       "      <td>3.000000</td>\n",
       "      <td>NaN</td>\n",
       "      <td>NaN</td>\n",
       "      <td>80.000000</td>\n",
       "      <td>8.000000</td>\n",
       "      <td>6.00000</td>\n",
       "      <td>NaN</td>\n",
       "      <td>512.329200</td>\n",
       "      <td>NaN</td>\n",
       "      <td>NaN</td>\n",
       "    </tr>\n",
       "  </tbody>\n",
       "</table>\n",
       "</div>"
      ],
      "text/plain": [
       "        PassengerId    Survived      Pclass                    Name   Sex  \\\n",
       "count    534.000000  534.000000  534.000000                     534   534   \n",
       "unique          NaN         NaN         NaN                     534     2   \n",
       "top             NaN         NaN         NaN  Lefebre, Miss. Jeannie  male   \n",
       "freq            NaN         NaN         NaN                       1   346   \n",
       "mean     438.878277    0.391386    2.327715                     NaN   NaN   \n",
       "std      256.203078    0.488518    0.839514                     NaN   NaN   \n",
       "min        1.000000    0.000000    1.000000                     NaN   NaN   \n",
       "25%      213.250000    0.000000    2.000000                     NaN   NaN   \n",
       "50%      435.500000    0.000000    3.000000                     NaN   NaN   \n",
       "75%      654.750000    1.000000    3.000000                     NaN   NaN   \n",
       "max      891.000000    1.000000    3.000000                     NaN   NaN   \n",
       "\n",
       "               Age       SibSp      Parch    Ticket        Fare    Cabin  \\\n",
       "count   432.000000  534.000000  534.00000       534  534.000000      120   \n",
       "unique         NaN         NaN        NaN       447         NaN      102   \n",
       "top            NaN         NaN        NaN  CA. 2343         NaN  B96 B98   \n",
       "freq           NaN         NaN        NaN         6         NaN        3   \n",
       "mean     29.612662    0.548689    0.38015       NaN   32.780453      NaN   \n",
       "std      14.740699    1.206793    0.81936       NaN   52.203248      NaN   \n",
       "min       0.420000    0.000000    0.00000       NaN    0.000000      NaN   \n",
       "25%      20.000000    0.000000    0.00000       NaN    7.895800      NaN   \n",
       "50%      28.000000    0.000000    0.00000       NaN   13.000000      NaN   \n",
       "75%      38.250000    1.000000    0.00000       NaN   31.275000      NaN   \n",
       "max      80.000000    8.000000    6.00000       NaN  512.329200      NaN   \n",
       "\n",
       "       Embarked  \n",
       "count       534  \n",
       "unique        3  \n",
       "top           S  \n",
       "freq        380  \n",
       "mean        NaN  \n",
       "std         NaN  \n",
       "min         NaN  \n",
       "25%         NaN  \n",
       "50%         NaN  \n",
       "75%         NaN  \n",
       "max         NaN  "
      ]
     },
     "execution_count": 5,
     "metadata": {},
     "output_type": "execute_result"
    }
   ],
   "source": [
    "train_df.describe(include='all')"
   ]
  },
  {
   "cell_type": "code",
   "execution_count": 6,
   "id": "f7b2b05c-3135-4d07-bbb5-443e09bfbce1",
   "metadata": {},
   "outputs": [
    {
     "name": "stdout",
     "output_type": "stream",
     "text": [
      "Кол-во записей: 534\n"
     ]
    },
    {
     "data": {
      "text/plain": [
       "PassengerId      0\n",
       "Survived         0\n",
       "Pclass           0\n",
       "Name             0\n",
       "Sex              0\n",
       "Age            102\n",
       "SibSp            0\n",
       "Parch            0\n",
       "Ticket           0\n",
       "Fare             0\n",
       "Cabin          414\n",
       "Embarked         0\n",
       "dtype: int64"
      ]
     },
     "execution_count": 6,
     "metadata": {},
     "output_type": "execute_result"
    }
   ],
   "source": [
    "print(f'Кол-во записей: {len(train_df)}')\n",
    "train_df.isnull().sum()"
   ]
  },
  {
   "cell_type": "markdown",
   "id": "0019e756-605c-4acd-bd5c-334bd0393423",
   "metadata": {},
   "source": [
    "#### Признак Cabin не имеет смысла восстанавливать, поэтому просто сносим кабину)"
   ]
  },
  {
   "cell_type": "code",
   "execution_count": 7,
   "id": "1997e01d-36a5-4acc-ad6b-460b512565e6",
   "metadata": {},
   "outputs": [],
   "source": [
    "cat_cols.remove('Cabin')\n",
    "train_df = train_df.dropna(axis=1, thresh=300)"
   ]
  },
  {
   "cell_type": "markdown",
   "id": "8205030b-bb56-4ee2-a8cf-c1d527438099",
   "metadata": {},
   "source": [
    "#### Так же удалим столбцы которые точно не будут играть роль при прогнозирование\n",
    "\n",
    "На счёт порта посадки я не до конца уверен, поэтому пусть пока он будет"
   ]
  },
  {
   "cell_type": "code",
   "execution_count": 8,
   "id": "095280ce-c4c3-4ca2-bbc4-decbd0d5ca28",
   "metadata": {},
   "outputs": [],
   "source": [
    "cat_cols.remove('Name')\n",
    "cat_cols.remove('Ticket')\n",
    "num_cols.remove('PassengerId')\n",
    "train_df = train_df.drop(['Name', 'Ticket', 'PassengerId'], axis=1)"
   ]
  },
  {
   "cell_type": "markdown",
   "id": "36bb7f2d-9a84-407b-8e90-c51d182db0fc",
   "metadata": {},
   "source": [
    "#### Воспользуемся методом k-ближайших соседей для заполнения возраста"
   ]
  },
  {
   "cell_type": "code",
   "execution_count": 9,
   "id": "27f26be0-8c0b-4ebb-8570-8b4c019ffb8f",
   "metadata": {},
   "outputs": [],
   "source": [
    "train_df['Age'] = train_df['Age'].fillna(train_df['Age'].mean())\n",
    "# knn = KNNImputer(n_neighbors = 5)\n",
    "# inputed = knn.fit_transform(train_df[num_cols])\n",
    "\n",
    "# train_df['Age'] = inputed[:, 1]"
   ]
  },
  {
   "cell_type": "markdown",
   "id": "428b4256-b674-4fd5-b398-f3c9fde4e0ea",
   "metadata": {},
   "source": [
    "#### Нормализируем данные"
   ]
  },
  {
   "cell_type": "code",
   "execution_count": 10,
   "id": "9163b414-b7a1-427f-82fb-e6dce467bc96",
   "metadata": {},
   "outputs": [
    {
     "ename": "NameError",
     "evalue": "name 'x' is not defined",
     "output_type": "error",
     "traceback": [
      "\u001b[1;31m---------------------------------------------------------------------------\u001b[0m",
      "\u001b[1;31mNameError\u001b[0m                                 Traceback (most recent call last)",
      "Cell \u001b[1;32mIn[10], line 3\u001b[0m\n\u001b[0;32m      1\u001b[0m scaler \u001b[38;5;241m=\u001b[39m MinMaxScaler()\n\u001b[1;32m----> 3\u001b[0m x[all_cols] \u001b[38;5;241m=\u001b[39m scaler\u001b[38;5;241m.\u001b[39mfit_transform(\u001b[43mx\u001b[49m[all_cols])\n",
      "\u001b[1;31mNameError\u001b[0m: name 'x' is not defined"
     ]
    }
   ],
   "source": [
    "scaler = MinMaxScaler()\n",
    "\n",
    "x[all_cols] = scaler.fit_transform(x[all_cols])\n",
    "# train_df[num_cols] = scaler.fit_transform(train_df[num_cols])"
   ]
  },
  {
   "cell_type": "markdown",
   "id": "44fff7e9-8196-40cb-a842-0c5d3e625a95",
   "metadata": {},
   "source": [
    "#### Закодировали категориальные признаки"
   ]
  },
  {
   "cell_type": "code",
   "execution_count": null,
   "id": "4c4b843c-4a02-425e-bc43-b7d9e1f02b76",
   "metadata": {},
   "outputs": [],
   "source": [
    "# le = LabelEncoder()\n",
    "# for name in cat_cols:\n",
    "#     train_df[name] = le.fit_transform(train_df[[name]])\n",
    "train_df = pd.get_dummies(train_df, columns = cat_cols)\n",
    "all_cols = train_df.columns[1:]\n",
    "x = train_df[all_cols]\n",
    "y = train_df['Survived']"
   ]
  },
  {
   "cell_type": "markdown",
   "id": "21187fac-e833-44d6-98e0-4f3479c37e80",
   "metadata": {},
   "source": [
    "#### Проведём отбор информативных признаков"
   ]
  },
  {
   "cell_type": "markdown",
   "id": "c649cedd-bfdd-4370-a277-b49c80c5c439",
   "metadata": {},
   "source": [
    "##### Метод фильтрации (Inforamtion Gain)"
   ]
  },
  {
   "cell_type": "code",
   "execution_count": null,
   "id": "03d837ef-77c3-4023-98e5-b7a202dce4f6",
   "metadata": {},
   "outputs": [],
   "source": [
    "importances = mutual_info_classif(x, y)\n",
    "feature_importances = pd.Series(importances, train_df.columns[1:])\n",
    "feature_importances.plot(kind='barh', color='teal')\n",
    "plt.show()"
   ]
  },
  {
   "cell_type": "markdown",
   "id": "9c5f8aeb-fc41-4a6f-ad29-88412b5c51c3",
   "metadata": {},
   "source": [
    "##### Метод обёртки (recursive feature elimination)"
   ]
  },
  {
   "cell_type": "code",
   "execution_count": null,
   "id": "e32eb3ef-2fc1-452d-ac6e-ac520ba288e8",
   "metadata": {},
   "outputs": [],
   "source": [
    "lr = LinearRegression()\n",
    "rfe = RFE(lr, n_features_to_select=4, step=1)\n",
    "selector = rfe.fit(x, y)\n",
    "selector.get_feature_names_out()"
   ]
  },
  {
   "cell_type": "markdown",
   "id": "ad9a50cd-e440-4b15-b9ab-8be052d85d3a",
   "metadata": {},
   "source": [
    "##### Встроенный метод (Регуляризация LASSO)"
   ]
  },
  {
   "cell_type": "code",
   "execution_count": null,
   "id": "0c67c482-d900-4ae6-8f70-c136f1f74f78",
   "metadata": {},
   "outputs": [],
   "source": [
    "clf = Lasso(alpha=0.01)\n",
    "clf.fit(x, y)\n",
    "print(clf.coef_)"
   ]
  },
  {
   "cell_type": "markdown",
   "id": "6a893195-a2a5-4ba8-8643-455154da8253",
   "metadata": {},
   "source": [
    "### Доверимся методу обёртки и удалим столбцы, которые не являются значимыми"
   ]
  },
  {
   "cell_type": "code",
   "execution_count": null,
   "id": "ce401be7-a16b-420e-a9ef-fa80cdcd33fd",
   "metadata": {},
   "outputs": [],
   "source": [
    "# new_df = train_df.drop(columns=set(train_df.columns) - set(selector.get_feature_names_out()))\n",
    "# x = new_df\n",
    "x # попробовать все колонки"
   ]
  },
  {
   "cell_type": "code",
   "execution_count": null,
   "id": "b780bf2c-e73b-4a91-afe4-e1b1ec15d116",
   "metadata": {},
   "outputs": [],
   "source": [
    "y.value_counts().plot(kind='bar')\n",
    "plt.show()"
   ]
  },
  {
   "cell_type": "markdown",
   "id": "1b4b9e8c-1e45-4323-aee7-0f0261080663",
   "metadata": {},
   "source": [
    "### Оверсемплинг"
   ]
  },
  {
   "cell_type": "code",
   "execution_count": null,
   "id": "76ee6145-9e37-4502-98fa-18cf60a914d5",
   "metadata": {},
   "outputs": [],
   "source": [
    "# x_resampled, y_resampled = SMOTE().fit_resample(x, y)\n",
    "# x = x_resampled\n",
    "# y = y_resampled\n",
    "\n",
    "ros = RandomOverSampler(random_state=0)\n",
    "x_ros, y_ros= ros.fit_resample(x, y)\n",
    "x = x_ros\n",
    "y = y_ros"
   ]
  },
  {
   "cell_type": "code",
   "execution_count": null,
   "id": "9d2f986c-4a32-4dce-b0a3-5add24d250a0",
   "metadata": {},
   "outputs": [],
   "source": [
    "y.value_counts().plot(kind='bar')\n",
    "plt.show()"
   ]
  },
  {
   "cell_type": "code",
   "execution_count": null,
   "id": "cbc7ade2-9ebc-47ab-a498-9f89a3754203",
   "metadata": {},
   "outputs": [],
   "source": [
    "x_train, x_val, y_train, y_val = train_test_split(x, y, test_size = 0.3, random_state=0)\n",
    "print(x_train)"
   ]
  },
  {
   "cell_type": "markdown",
   "id": "4a035882-7568-4c13-b676-9bc597871393",
   "metadata": {},
   "source": [
    "### KNN"
   ]
  },
  {
   "cell_type": "code",
   "execution_count": null,
   "id": "5e0de810-3885-49ed-9a65-894d0899ddcd",
   "metadata": {},
   "outputs": [],
   "source": [
    "params = {'n_neighbors': range(1, 20),\n",
    "          'weights': ('uniform', 'distance'),\n",
    "          'metric': ('euclidean', 'manhattan', 'chebyshev'),\n",
    "          'algorithm': ('auto', 'ball_tree', 'kd_tree', 'brute')}\n",
    "\n",
    "# knn = KNeighborsClassifier()\n",
    "# grid = GridSearchCV(knn, params) # указать метрику\n",
    "# grid.fit(x_train, y_train)\n",
    "# best_knn = grid.best_estimator_\n",
    "# print(best_knn.score(x_val, y_val)) # округлить и оформить красиво\n",
    "\n",
    "\n",
    "knn = KNeighborsClassifier()\n",
    " \n",
    "# определение диапазона гиперпараметров\n",
    "# params = {'n_neighbors': range(1, 20),\n",
    "#           'weights': ['uniform', 'distance']}\n",
    " \n",
    "# определение метрики оценки производительности\n",
    "scoring = 'roc_auc'\n",
    " \n",
    "# создание объекта GridSearchCV и обучение модели\n",
    "grid = GridSearchCV(knn, params, scoring=scoring)\n",
    "grid.fit(x_train, y_train)\n",
    " \n",
    "# вывод лучшего набора гиперпараметров и их значения по метрике roc_auc\n",
    "print('Best parameters:', grid.best_params_)\n",
    "print('Best scores:', grid.best_score_)\n",
    " \n",
    "# предсказание вероятностей на тестовых данных\n",
    "y_pred_prob = grid.predict_proba(x_val)\n",
    "best_knn = grid.best_estimator_\n",
    "# вычисление метрики roc_auc\n",
    "roc_auc = roc_auc_score(y_val, y_pred_prob[:,1])\n",
    "print('ROC-AUC:', roc_auc)"
   ]
  },
  {
   "cell_type": "markdown",
   "id": "9bf6dc37-44b6-4cd1-9886-7522f00578d6",
   "metadata": {},
   "source": [
    "### Логистическая регрессия"
   ]
  },
  {
   "cell_type": "code",
   "execution_count": null,
   "id": "fba732ef-4f7e-4421-ba91-896b1a853924",
   "metadata": {},
   "outputs": [],
   "source": [
    "parameters = {'C':range(1, 20), 'penalty':(None, 'l1', 'l2', 'elasticnet'), 'solver':(['saga']), 'l1_ratio':([0.5])}\n",
    "\n",
    "clf = LogisticRegression()\n",
    "grid = GridSearchCV(clf, parameters)\n",
    "grid.fit(x_train, y_train)\n",
    "best_clf = grid.best_estimator_\n",
    "print(best_clf.score(x_val, y_val))"
   ]
  },
  {
   "cell_type": "markdown",
   "id": "b5971e16-86ff-40f9-aa93-f956e6c8a73c",
   "metadata": {},
   "source": [
    "### Метод опорных векторов"
   ]
  },
  {
   "cell_type": "code",
   "execution_count": null,
   "id": "1fac5b6d-bde8-4de6-97c8-1ee61d203a4f",
   "metadata": {},
   "outputs": [],
   "source": [
    "# parameters = {'kernel':('rbf', 'linear', 'poly'), 'C':(range(1, 6))}\n",
    "# lsvc = SVC(probability=True)\n",
    "\n",
    "# grid = GridSearchCV(lsvc, parameters)\n",
    "# grid.fit(x_train, y_train)\n",
    "# best_lsvc = grid.best_estimator_\n",
    "# print(best_lsvc.score(x_val, y_val))"
   ]
  },
  {
   "cell_type": "markdown",
   "id": "21f94e17-49e5-492f-a7fc-90b7dfa7509c",
   "metadata": {},
   "source": [
    "### Наивный байесовский классификатор"
   ]
  },
  {
   "cell_type": "code",
   "execution_count": null,
   "id": "904fdcb7-52aa-47d6-a8d7-cbf632d65014",
   "metadata": {},
   "outputs": [],
   "source": [
    "gaus = GaussianNB()\n",
    "gaus.fit(x_train, y_train) # cross validate\n",
    "print(gaus.score(x_val, y_val))"
   ]
  },
  {
   "cell_type": "markdown",
   "id": "6e86be29-c626-4a02-9a4b-73acc694cf54",
   "metadata": {},
   "source": [
    "### Дискриминантный анализ"
   ]
  },
  {
   "cell_type": "code",
   "execution_count": null,
   "id": "fec8df98-8395-466e-8511-efe1c979b022",
   "metadata": {},
   "outputs": [],
   "source": [
    "disc = LinearDiscriminantAnalysis()\n",
    "disc.fit(x_train, y_train)\n",
    "print(disc.score(x_val, y_val))"
   ]
  },
  {
   "cell_type": "code",
   "execution_count": null,
   "id": "b2295c9b-824c-44d9-b4e8-8c35ec701f73",
   "metadata": {},
   "outputs": [],
   "source": [
    "def roc_auc_plot(y_train, y_train_predicted, y_val, y_val_predicted, title):\n",
    "    train_auc = roc_auc_score(y_train, y_train_predicted)\n",
    "    test_auc = roc_auc_score(y_val, y_val_predicted)\n",
    "\n",
    "    plt.figure(figsize=(10,7))\n",
    "    plt.title(title)\n",
    "    plt.plot(*roc_curve(y_train, y_train_predicted)[:2], label='train AUC={:.4f}'.format(train_auc))\n",
    "    plt.plot(*roc_curve(y_val, y_val_predicted)[:2], label='test AUC={:.4f}'.format(test_auc))\n",
    "    legend_box = plt.legend(fontsize='large', framealpha=1).get_frame()\n",
    "    legend_box.set_facecolor(\"white\")\n",
    "    legend_box.set_edgecolor(\"black\")\n",
    "    plt.plot(np.linspace(0,1,100), np.linspace(0,1,100))\n",
    "    plt.show()"
   ]
  },
  {
   "cell_type": "code",
   "execution_count": null,
   "id": "9f18382a-936a-4db2-a1b9-976a32054829",
   "metadata": {},
   "outputs": [],
   "source": [
    "y_train_predicted = best_knn.predict_proba(x_train)[:, 1]\n",
    "y_val_predicted = best_knn.predict_proba(x_val)[:, 1]"
   ]
  },
  {
   "cell_type": "code",
   "execution_count": null,
   "id": "93badbfd-c0f6-47ea-84ab-ebdec17fce13",
   "metadata": {},
   "outputs": [],
   "source": [
    "roc_auc_plot(y_train, y_train_predicted, y_val, y_val_predicted, \"KNN\") # посмотреть встроенный метод"
   ]
  },
  {
   "cell_type": "code",
   "execution_count": null,
   "id": "6123001c-8eda-45ae-b5a0-3376e502658c",
   "metadata": {},
   "outputs": [],
   "source": [
    "y_train_predicted = best_clf.predict_proba(x_train)[:, 1]\n",
    "y_val_predicted = best_clf.predict_proba(x_val)[:, 1]\n",
    "roc_auc_plot(y_train, y_train_predicted, y_val, y_val_predicted, \"Logistic regression\")"
   ]
  },
  {
   "cell_type": "code",
   "execution_count": null,
   "id": "60af9467-a174-41cd-9669-4b65c146929a",
   "metadata": {},
   "outputs": [],
   "source": [
    "# y_train_predicted = best_lsvc.predict_proba(x_train)[:, 1]\n",
    "# y_val_predicted = best_lsvc.predict_proba(x_val)[:, 1]\n",
    "# roc_auc_plot(y_train, y_train_predicted, y_val, y_val_predicted, \"Vectors\")"
   ]
  },
  {
   "cell_type": "code",
   "execution_count": null,
   "id": "95c5f271-ee13-4f10-9a5e-eddd387b765e",
   "metadata": {},
   "outputs": [],
   "source": [
    "y_train_predicted = gaus.predict_proba(x_train)[:, 1]\n",
    "y_val_predicted = gaus.predict_proba(x_val)[:, 1]\n",
    "roc_auc_plot(y_train, y_train_predicted, y_val, y_val_predicted, \"Бейсевскийцотылва\")"
   ]
  },
  {
   "cell_type": "code",
   "execution_count": null,
   "id": "365c6ab4-29e3-4cee-a714-16931986e88c",
   "metadata": {},
   "outputs": [],
   "source": [
    "y_train_predicted = disc.predict_proba(x_train)[:, 1]\n",
    "y_val_predicted = disc.predict_proba(x_val)[:, 1]\n",
    "roc_auc_plot(y_train, y_train_predicted, y_val, y_val_predicted, \"Дискриминация\")"
   ]
  },
  {
   "cell_type": "code",
   "execution_count": null,
   "id": "b9186870-9c51-4985-a5c7-6731995db7c3",
   "metadata": {},
   "outputs": [],
   "source": [
    "test_df = pd.read_csv('test.csv', sep=',', header=0, index_col=False)\n",
    "cat_cols = ['Name', 'Sex', 'Ticket', 'Cabin', 'Embarked']\n",
    "num_cols = ['PassengerId', 'Pclass', 'Age', 'SibSp', 'Parch', 'Fare']\n",
    "test_df.describe(include='all')"
   ]
  },
  {
   "cell_type": "code",
   "execution_count": null,
   "id": "d19805bb-c2e9-4cc8-b283-4fce08a4aeec",
   "metadata": {},
   "outputs": [],
   "source": [
    "cat_cols.remove('Cabin')\n",
    "cat_cols.remove('Name')\n",
    "cat_cols.remove('Ticket')\n",
    "num_cols.remove('PassengerId')\n",
    "test_id = test_df['PassengerId']\n",
    "test_df = test_df.drop(['Name', 'Ticket', 'PassengerId', 'Cabin'], axis=1)\n",
    "\n",
    "test_df['Age'] = test_df['Age'].fillna(test_df['Age'].mean())\n",
    "# knn = KNNImputer(n_neighbors = 5)\n",
    "# inputed = knn.fit_transform(test_df[num_cols])\n",
    "# test_df['Age'] = inputed[:, 1]\n",
    "\n",
    "test_df['Embarked'] = test_df['Embarked'].fillna(test_df['Embarked'].mode())\n",
    "\n",
    "# for name in cat_cols:\n",
    "#     test_df[name] = le.fit_transform(test_df[[name]])\n",
    "\n",
    "test_df = pd.get_dummies(test_df, columns = cat_cols)\n",
    "\n",
    "scaler = MinMaxScaler()\n",
    "test_df[num_cols] = scaler.fit_transform(test_df[num_cols])\n",
    "test_df[cat_cols] = scaler.fit_transform(test_df[cat_cols])\n",
    "\n",
    "for name in cat_cols:\n",
    "    test_df[name] = le.fit_transform(test_df[[name]])\n",
    "\n",
    "# test_df = pd.get_dummies(test_df, columns = cat_cols)\n",
    "\n",
    "# test_df = test_df.drop(['Age', 'Parch', 'Embarked'], axis=1)\n",
    "\n",
    "def create_submission(id_c, pred):\n",
    "    return pd.DataFrame({\n",
    "        'PassengerId': id_c,\n",
    "        'Survived': pred\n",
    "    })"
   ]
  },
  {
   "cell_type": "code",
   "execution_count": null,
   "id": "e63ce934-3e59-41ea-bb00-874453709e64",
   "metadata": {},
   "outputs": [],
   "source": [
    "print(test_df)"
   ]
  },
  {
   "cell_type": "code",
   "execution_count": null,
   "id": "0d4e45f4-90c6-442c-a50a-311d02ab28be",
   "metadata": {},
   "outputs": [],
   "source": [
    "sub_knn = create_submission(test_id, best_knn.predict(test_df))\n",
    "sub_knn.to_csv('./knn.csv', index=False)"
   ]
  },
  {
   "cell_type": "code",
   "execution_count": null,
   "id": "19bd34d2-a703-43f5-8b24-fb041ce36506",
   "metadata": {},
   "outputs": [],
   "source": []
  }
 ],
 "metadata": {
  "kernelspec": {
   "display_name": "Python 3 (ipykernel)",
   "language": "python",
   "name": "python3"
  },
  "language_info": {
   "codemirror_mode": {
    "name": "ipython",
    "version": 3
   },
   "file_extension": ".py",
   "mimetype": "text/x-python",
   "name": "python",
   "nbconvert_exporter": "python",
   "pygments_lexer": "ipython3",
   "version": "3.10.9"
  }
 },
 "nbformat": 4,
 "nbformat_minor": 5
}
